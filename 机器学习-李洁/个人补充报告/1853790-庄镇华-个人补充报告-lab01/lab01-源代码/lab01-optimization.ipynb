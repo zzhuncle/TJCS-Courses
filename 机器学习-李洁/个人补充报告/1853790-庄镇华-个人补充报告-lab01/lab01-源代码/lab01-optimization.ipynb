{
 "cells": [
  {
   "cell_type": "markdown",
   "id": "5be1d043",
   "metadata": {},
   "source": [
    "## 模型优化"
   ]
  },
  {
   "cell_type": "code",
   "execution_count": 1,
   "id": "9905e320",
   "metadata": {},
   "outputs": [],
   "source": [
    "import numpy as np\n",
    "import pandas as pd\n",
    "import matplotlib.pyplot as plt\n",
    "import seaborn as sns\n",
    "from sklearn.model_selection import train_test_split\n",
    "from sklearn.preprocessing import StandardScaler\n",
    "%matplotlib inline"
   ]
  },
  {
   "cell_type": "code",
   "execution_count": 2,
   "id": "174aaa51",
   "metadata": {},
   "outputs": [
    {
     "data": {
      "text/html": [
       "<div>\n",
       "<style scoped>\n",
       "    .dataframe tbody tr th:only-of-type {\n",
       "        vertical-align: middle;\n",
       "    }\n",
       "\n",
       "    .dataframe tbody tr th {\n",
       "        vertical-align: top;\n",
       "    }\n",
       "\n",
       "    .dataframe thead th {\n",
       "        text-align: right;\n",
       "    }\n",
       "</style>\n",
       "<table border=\"1\" class=\"dataframe\">\n",
       "  <thead>\n",
       "    <tr style=\"text-align: right;\">\n",
       "      <th></th>\n",
       "      <th>Cement</th>\n",
       "      <th>BlastFurnaceSlag</th>\n",
       "      <th>FlyAsh</th>\n",
       "      <th>Water</th>\n",
       "      <th>Superplasticizer</th>\n",
       "      <th>CoarseAggregate</th>\n",
       "      <th>FineAggregate</th>\n",
       "      <th>Age</th>\n",
       "      <th>CC_Strength</th>\n",
       "    </tr>\n",
       "  </thead>\n",
       "  <tbody>\n",
       "    <tr>\n",
       "      <th>0</th>\n",
       "      <td>540.0</td>\n",
       "      <td>0.0</td>\n",
       "      <td>0.0</td>\n",
       "      <td>162.0</td>\n",
       "      <td>2.5</td>\n",
       "      <td>1040.0</td>\n",
       "      <td>676.0</td>\n",
       "      <td>28</td>\n",
       "      <td>79.986111</td>\n",
       "    </tr>\n",
       "    <tr>\n",
       "      <th>1</th>\n",
       "      <td>540.0</td>\n",
       "      <td>0.0</td>\n",
       "      <td>0.0</td>\n",
       "      <td>162.0</td>\n",
       "      <td>2.5</td>\n",
       "      <td>1055.0</td>\n",
       "      <td>676.0</td>\n",
       "      <td>28</td>\n",
       "      <td>61.887366</td>\n",
       "    </tr>\n",
       "    <tr>\n",
       "      <th>2</th>\n",
       "      <td>332.5</td>\n",
       "      <td>142.5</td>\n",
       "      <td>0.0</td>\n",
       "      <td>228.0</td>\n",
       "      <td>0.0</td>\n",
       "      <td>932.0</td>\n",
       "      <td>594.0</td>\n",
       "      <td>270</td>\n",
       "      <td>40.269535</td>\n",
       "    </tr>\n",
       "    <tr>\n",
       "      <th>3</th>\n",
       "      <td>332.5</td>\n",
       "      <td>142.5</td>\n",
       "      <td>0.0</td>\n",
       "      <td>228.0</td>\n",
       "      <td>0.0</td>\n",
       "      <td>932.0</td>\n",
       "      <td>594.0</td>\n",
       "      <td>365</td>\n",
       "      <td>41.052780</td>\n",
       "    </tr>\n",
       "    <tr>\n",
       "      <th>4</th>\n",
       "      <td>198.6</td>\n",
       "      <td>132.4</td>\n",
       "      <td>0.0</td>\n",
       "      <td>192.0</td>\n",
       "      <td>0.0</td>\n",
       "      <td>978.4</td>\n",
       "      <td>825.5</td>\n",
       "      <td>360</td>\n",
       "      <td>44.296075</td>\n",
       "    </tr>\n",
       "  </tbody>\n",
       "</table>\n",
       "</div>"
      ],
      "text/plain": [
       "   Cement  BlastFurnaceSlag  FlyAsh  Water  Superplasticizer  CoarseAggregate  \\\n",
       "0   540.0               0.0     0.0  162.0               2.5           1040.0   \n",
       "1   540.0               0.0     0.0  162.0               2.5           1055.0   \n",
       "2   332.5             142.5     0.0  228.0               0.0            932.0   \n",
       "3   332.5             142.5     0.0  228.0               0.0            932.0   \n",
       "4   198.6             132.4     0.0  192.0               0.0            978.4   \n",
       "\n",
       "   FineAggregate  Age  CC_Strength  \n",
       "0          676.0   28    79.986111  \n",
       "1          676.0   28    61.887366  \n",
       "2          594.0  270    40.269535  \n",
       "3          594.0  365    41.052780  \n",
       "4          825.5  360    44.296075  "
      ]
     },
     "execution_count": 2,
     "metadata": {},
     "output_type": "execute_result"
    }
   ],
   "source": [
    "# 重置列名\n",
    "data = pd.read_excel(\"Concrete_Data.xls\")\n",
    "req_col_names = [\"Cement\", \"BlastFurnaceSlag\", \"FlyAsh\", \"Water\", \"Superplasticizer\",\n",
    "                 \"CoarseAggregate\", \"FineAggregate\", \"Age\", \"CC_Strength\"]\n",
    "curr_col_names = list(data.columns)\n",
    "\n",
    "mapper = {}\n",
    "for i, name in enumerate(curr_col_names):\n",
    "    mapper[name] = req_col_names[i]\n",
    "data = data.rename(columns=mapper)\n",
    "data.head()"
   ]
  },
  {
   "cell_type": "code",
   "execution_count": 3,
   "id": "06a85d90",
   "metadata": {},
   "outputs": [],
   "source": [
    "X = data.iloc[:,:-1]         # Features - All columns but last\n",
    "y = data.iloc[:,-1]          # Target - Last Column\n",
    "X_train, X_test, y_train, y_test = train_test_split(X, y, test_size=0.2)\n",
    "\n",
    "# 数据标准化\n",
    "sc = StandardScaler()\n",
    "X_train = sc.fit_transform(X_train)\n",
    "X_test = sc.transform(X_test)"
   ]
  },
  {
   "cell_type": "markdown",
   "id": "38cad59f",
   "metadata": {},
   "source": [
    "### 特征选择"
   ]
  },
  {
   "cell_type": "markdown",
   "id": "b083e547",
   "metadata": {},
   "source": [
    "#### 线性回归模型"
   ]
  },
  {
   "cell_type": "code",
   "execution_count": 4,
   "id": "7eb41c04",
   "metadata": {},
   "outputs": [],
   "source": [
    "from sklearn.linear_model import LinearRegression\n",
    "\n",
    "lr = LinearRegression()\n",
    "lr.fit(X_train, y_train)\n",
    "\n",
    "y_pred_lr = lr.predict(X_test)"
   ]
  },
  {
   "cell_type": "code",
   "execution_count": 5,
   "id": "8fe9094a",
   "metadata": {},
   "outputs": [
    {
     "name": "stdout",
     "output_type": "stream",
     "text": [
      "[0 1 2 5 6 7]\n"
     ]
    }
   ],
   "source": [
    "from sklearn.feature_selection import SelectKBest,f_regression,chi2,f_classif,mutual_info_regression\n",
    "# 选取最好的6个特征\n",
    "x_new = SelectKBest(f_classif, k = 6).fit(X_train, y_train).get_support(indices = True)\n",
    "print(x_new)"
   ]
  },
  {
   "cell_type": "code",
   "execution_count": 6,
   "id": "3db62363",
   "metadata": {},
   "outputs": [],
   "source": [
    "X_train = np.array(X_train)\n",
    "X_test = np.array(X_test)\n",
    "\n",
    "X_train2 = X_train[:,[0, 1, 2 ,4 ,5 ,6]]\n",
    "X_test2 = X_test[:,[0, 1, 2 ,4 ,5 ,6]]\n",
    "\n",
    "lr2 = LinearRegression()\n",
    "lr2.fit(X_train2, y_train)\n",
    "y_pred_lr2 = lr2.predict(X_test2)"
   ]
  },
  {
   "cell_type": "code",
   "execution_count": 7,
   "id": "73ae6cde",
   "metadata": {},
   "outputs": [
    {
     "name": "stdout",
     "output_type": "stream",
     "text": [
      "Model\t\t\t RMSE \t MSE \t MAE \t R2\n",
      "LinearRegression \t 10.65 \t 113.44 8.40 \t0.592864\n",
      "LinearRegression2 \t 12.72 \t 161.85 10.19 \t0.419123\n"
     ]
    }
   ],
   "source": [
    "from sklearn.metrics import mean_squared_error, mean_absolute_error, r2_score\n",
    "\n",
    "print(\"Model\\t\\t\\t RMSE \\t MSE \\t MAE \\t R2\")\n",
    "print(\"\"\"LinearRegression \\t {:.2f} \\t {:.2f} {:.2f} \\t{:.6f}\"\"\".format(\n",
    "            np.sqrt(mean_squared_error(y_test, y_pred_lr)),mean_squared_error(y_test,\n",
    "        y_pred_lr),\n",
    "        mean_absolute_error(y_test, y_pred_lr), r2_score(y_test, y_pred_lr))) \n",
    "print(\"\"\"LinearRegression2 \\t {:.2f} \\t {:.2f} {:.2f} \\t{:.6f}\"\"\".format(\n",
    "            np.sqrt(mean_squared_error(y_test, y_pred_lr2)),mean_squared_error(y_test,\n",
    "        y_pred_lr2),\n",
    "        mean_absolute_error(y_test, y_pred_lr2), r2_score(y_test, y_pred_lr2))) "
   ]
  },
  {
   "cell_type": "markdown",
   "id": "47affd64",
   "metadata": {},
   "source": [
    "#### 决策树类模型"
   ]
  },
  {
   "cell_type": "code",
   "execution_count": 8,
   "id": "1cecdcbb",
   "metadata": {},
   "outputs": [],
   "source": [
    "from sklearn.tree import DecisionTreeRegressor\n",
    "from sklearn.ensemble import RandomForestRegressor\n",
    "from sklearn.ensemble import AdaBoostRegressor\n",
    "from sklearn.ensemble import GradientBoostingRegressor\n",
    "from sklearn.tree import ExtraTreeRegressor\n",
    "\n",
    "# Adaboost回归\n",
    "Ada = AdaBoostRegressor(n_estimators=100)#这里使用100个决策树\n",
    "# 决策树回归\n",
    "dtr = DecisionTreeRegressor()\n",
    "# 随机森林回归\n",
    "rfr = RandomForestRegressor(n_estimators=100)\n",
    "# GBRT回归\n",
    "GBRT = GradientBoostingRegressor(n_estimators=100)\n",
    "# ExtraTree极端随机树回归\n",
    "ETR = ExtraTreeRegressor()\n",
    "    \n",
    "# 模型训练\n",
    "Ada.fit(X_train, y_train)\n",
    "dtr.fit(X_train, y_train)\n",
    "rfr.fit(X_train, y_train)\n",
    "GBRT.fit(X_train, y_train)\n",
    "ETR.fit(X_train, y_train)\n",
    "\n",
    "y_pred_Ada = Ada.predict(X_test)\n",
    "y_pred_dtr = dtr.predict(X_test)\n",
    "y_pred_rfr = rfr.predict(X_test)\n",
    "y_pred_GBRT = GBRT.predict(X_test)\n",
    "y_pred_ETR = ETR.predict(X_test)"
   ]
  },
  {
   "cell_type": "code",
   "execution_count": 9,
   "id": "3d14a0a5",
   "metadata": {},
   "outputs": [
    {
     "data": {
      "image/png": "[encoded data removed]",
      "text/plain": [
       "<Figure size 720x432 with 1 Axes>"
      ]
     },
     "metadata": {
      "needs_background": "light"
     },
     "output_type": "display_data"
    }
   ],
   "source": [
    "feature_Ada = Ada.feature_importances_\n",
    "feature_dtr = dtr.feature_importances_\n",
    "feature_rfr = rfr.feature_importances_\n",
    "feature_GBRT = GBRT.feature_importances_\n",
    "feature_ETR = ETR.feature_importances_\n",
    "\n",
    "labels = req_col_names[:-1]\n",
    "\n",
    "x = np.arange(len(labels))\n",
    "width = 0.9\n",
    "\n",
    "fig, ax = plt.subplots(figsize=(10,6))\n",
    "rects1 = ax.bar(x-(width/2), feature_Ada, width/7, label='AdaBoosrt',color=\"r\")\n",
    "rects2 = ax.bar(x-(width/4), feature_dtr, width/7, label='DecisionTree',color=\"g\")\n",
    "rects3 = ax.bar(x, feature_rfr, width/7, label='Random Forest',color=\"b\")\n",
    "rects4 = ax.bar(x+(width/4), feature_GBRT, width/7, label='GBRT',color=\"yellow\")\n",
    "rects5 = ax.bar(x+(width/2), feature_ETR, width/7, label='ETR',color=\"pink\")\n",
    "\n",
    "ax.set_ylabel('Importance')\n",
    "ax.set_xlabel('Features')\n",
    "ax.set_title('feature importance')\n",
    "ax.set_xticks(x)\n",
    "ax.set_xticklabels(labels, rotation=45)\n",
    "ax.legend(loc=\"upper left\", bbox_to_anchor=(1,1))\n",
    "\n",
    "def autolabel(rects):\n",
    "    \"\"\"Attach a text label above each bar in *rects*, displaying its height.\"\"\"\n",
    "    for rect in rects:\n",
    "        height = rect.get_height()\n",
    "        ax.annotate('{:.2f}'.format(height), xy=(rect.get_x() + rect.get_width() / 2, height),\n",
    "                    xytext=(0, 3), textcoords=\"offset points\", ha='center', va='bottom')\n",
    "autolabel(rects1)\n",
    "autolabel(rects2)\n",
    "autolabel(rects3)\n",
    "autolabel(rects4)\n",
    "autolabel(rects5)\n",
    "\n",
    "fig.tight_layout()\n",
    "plt.show()"
   ]
  },
  {
   "cell_type": "code",
   "execution_count": 10,
   "id": "0591be0f",
   "metadata": {},
   "outputs": [
    {
     "data": {
      "text/plain": [
       "array([0.33886933, 0.06967667, 0.01897941, 0.10127638, 0.06388369,\n",
       "       0.02886745, 0.04088745, 0.33755963])"
      ]
     },
     "execution_count": 10,
     "metadata": {},
     "output_type": "execute_result"
    }
   ],
   "source": [
    "# 根据RandomForest的重要性排序\n",
    "rfr.feature_importances_"
   ]
  },
  {
   "cell_type": "code",
   "execution_count": 12,
   "id": "2273d75b",
   "metadata": {},
   "outputs": [],
   "source": [
    "X_train_sel = X_train[:,[0,1,3,4,5,6,7]]\n",
    "X_test_sel = X_test[:,[0,1,3,4,5,6,7]]\n",
    "\n",
    "rfr_sel = RandomForestRegressor()\n",
    "rfr_sel.fit(X_train_sel, y_train)\n",
    "\n",
    "y_pred_rfr_sel = rfr_sel.predict(X_test_sel)\n",
    "\n",
    "print(\"Model\\t\\t\\t RMSE \\t MSE \\t MAE \\t R2\")\n",
    "print(\"\"\"Random Forest Regressor  {:.2f} \\t {:.2f} \\t {:.2f} \\t{:.6f}\"\"\".format(\n",
    "            np.sqrt(mean_squared_error(y_test, y_pred_rfr)),mean_squared_error(y_test, y_pred_rfr),\n",
    "            mean_absolute_error(y_test, y_pred_rfr), r2_score(y_test, y_pred_rfr)))\n",
    "print(\"\"\"Random Forest Select \\t {:.2f} \\t  {:.2f}  {:.2f} \\t{:.6f}\"\"\".format(\n",
    "            np.sqrt(mean_squared_error(y_test, y_pred_rfr_sel)),mean_squared_error(y_test, y_pred_rfr_sel),\n",
    "            mean_absolute_error(y_test, y_pred_rfr_sel), r2_score(y_test, y_pred_rfr_sel)))"
   ]
  },
  {
   "cell_type": "markdown",
   "id": "a6212db6",
   "metadata": {},
   "source": [
    "### 网格搜索"
   ]
  },
  {
   "cell_type": "code",
   "execution_count": 13,
   "id": "74bd29b0",
   "metadata": {},
   "outputs": [],
   "source": [
    "from sklearn.neighbors import KNeighborsRegressor\n",
    "from sklearn.model_selection import GridSearchCV\n",
    "\n",
    "knn_reg = KNeighborsRegressor()\n",
    "\n",
    "knn_reg.fit(X_train, y_train)\n",
    "y_pred_knn = knn_reg.predict(X_test)"
   ]
  },
  {
   "cell_type": "code",
   "execution_count": 14,
   "id": "fa8a275c",
   "metadata": {},
   "outputs": [
    {
     "name": "stdout",
     "output_type": "stream",
     "text": [
      "Model\t\t\t RMSE \t\t MSE \t\t MAE \t\t R2\n",
      "KNeighborsRegressor \t 8.15 \t\t 66.38 \t\t6.45 \t\t0.76\n"
     ]
    }
   ],
   "source": [
    "from sklearn.metrics import mean_squared_error, mean_absolute_error, r2_score\n",
    "\n",
    "print(\"Model\\t\\t\\t RMSE \\t\\t MSE \\t\\t MAE \\t\\t R2\")\n",
    "print(\"\"\"KNeighborsRegressor \\t {:.2f} \\t\\t {:.2f} \\t\\t{:.2f} \\t\\t{:.2f}\"\"\".format(\n",
    "            np.sqrt(mean_squared_error(y_test, y_pred_knn)),mean_squared_error(y_test, y_pred_knn),\n",
    "            mean_absolute_error(y_test, y_pred_knn), r2_score(y_test, y_pred_knn)))"
   ]
  },
  {
   "cell_type": "code",
   "execution_count": 17,
   "id": "7d0beee3",
   "metadata": {},
   "outputs": [
    {
     "name": "stdout",
     "output_type": "stream",
     "text": [
      "Fitting 5 folds for each of 60 candidates, totalling 300 fits\n",
      "Model\t\t\t RMSE \t\t MSE \t\t MAE \t\t R2\n",
      "GridSearch \t\t 7.58 \t\t 57.40 \t\t5.63 \t\t0.79\n",
      "模型的最优参数： {'n_neighbors': 7, 'p': 2, 'weights': 'distance'}\n"
     ]
    }
   ],
   "source": [
    "param_grid =  [{'weights': ['uniform'],'n_neighbors':[i for i in range(1,11)]},{'weights':['distance'],'n_neighbors':[i for i in range(1,11)],'p':[i for i in range(1,6)]}]\n",
    "knn_reg = KNeighborsRegressor()\n",
    "grid_search=GridSearchCV(knn_reg,param_grid,n_jobs=-1,verbose=2)\n",
    "grid_search.fit(X_train,y_train)\n",
    "y_pred_grd = grid_search.predict(X_test)\n",
    "\n",
    "print(\"Model\\t\\t\\t RMSE \\t\\t MSE \\t\\t MAE \\t\\t R2\")\n",
    "print(\"\"\"GridSearch \\t\\t {:.2f} \\t\\t {:.2f} \\t\\t{:.2f} \\t\\t{:.2f}\"\"\".format(\n",
    "            np.sqrt(mean_squared_error(y_test, y_pred_grd)),mean_squared_error(y_test, y_pred_grd),\n",
    "            mean_absolute_error(y_test, y_pred_grd), r2_score(y_test, y_pred_grd)))\n",
    "print(\"模型的最优参数：\",grid_search.best_params_)"
   ]
  },
  {
   "cell_type": "code",
   "execution_count": null,
   "id": "598d4166",
   "metadata": {},
   "outputs": [],
   "source": []
  }
 ],
 "metadata": {
  "kernelspec": {
   "display_name": "Python 3",
   "language": "python",
   "name": "python3"
  },
  "language_info": {
   "codemirror_mode": {
    "name": "ipython",
    "version": 3
   },
   "file_extension": ".py",
   "mimetype": "text/x-python",
   "name": "python",
   "nbconvert_exporter": "python",
   "pygments_lexer": "ipython3",
   "version": "3.8.8"
  }
 },
 "nbformat": 4,
 "nbformat_minor": 5
}
