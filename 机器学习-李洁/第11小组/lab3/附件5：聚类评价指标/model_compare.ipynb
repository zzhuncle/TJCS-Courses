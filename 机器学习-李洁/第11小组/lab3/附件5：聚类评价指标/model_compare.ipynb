{
 "cells": [
  {
   "cell_type": "markdown",
   "metadata": {},
   "source": [
    "# 库"
   ]
  },
  {
   "cell_type": "code",
   "execution_count": 1,
   "metadata": {},
   "outputs": [],
   "source": [
    "import matplotlib.pyplot as plt\n",
    "import pandas as pd\n",
    "import seaborn as sns\n",
    "import numpy as np\n",
    "from sklearn.cluster import KMeans\n",
    "from sklearn import preprocessing"
   ]
  },
  {
   "cell_type": "code",
   "execution_count": 2,
   "metadata": {},
   "outputs": [],
   "source": [
    "from sklearn.metrics import silhouette_score\n",
    "from sklearn.metrics import calinski_harabasz_score\n",
    "from sklearn.metrics import davies_bouldin_score"
   ]
  },
  {
   "cell_type": "code",
   "execution_count": 3,
   "metadata": {},
   "outputs": [],
   "source": [
    "from sklearn.cluster import KMeans\n",
    "from sklearn.cluster import SpectralClustering\n",
    "from sklearn.cluster import MiniBatchKMeans\n",
    "from sklearn.cluster import AgglomerativeClustering\n",
    "from sklearn.cluster import Birch\n",
    "from sklearn.cluster import DBSCAN\n",
    "from sklearn.cluster import MeanShift\n",
    "from sklearn.mixture import GaussianMixture\n",
    "from sklearn.preprocessing import StandardScaler"
   ]
  },
  {
   "cell_type": "code",
   "execution_count": 4,
   "metadata": {},
   "outputs": [],
   "source": [
    "from sklearn.decomposition import PCA\n",
    "from sklearn.decomposition import FactorAnalysis"
   ]
  },
  {
   "cell_type": "markdown",
   "metadata": {},
   "source": [
    "# 读入数据"
   ]
  },
  {
   "cell_type": "code",
   "execution_count": 5,
   "metadata": {},
   "outputs": [],
   "source": [
    "data_clean = pd.read_csv ('data_clean.csv',index_col=0)"
   ]
  },
  {
   "cell_type": "code",
   "execution_count": 6,
   "metadata": {},
   "outputs": [
    {
     "data": {
      "text/html": [
       "<div>\n",
       "<style scoped>\n",
       "    .dataframe tbody tr th:only-of-type {\n",
       "        vertical-align: middle;\n",
       "    }\n",
       "\n",
       "    .dataframe tbody tr th {\n",
       "        vertical-align: top;\n",
       "    }\n",
       "\n",
       "    .dataframe thead th {\n",
       "        text-align: right;\n",
       "    }\n",
       "</style>\n",
       "<table border=\"1\" class=\"dataframe\">\n",
       "  <thead>\n",
       "    <tr style=\"text-align: right;\">\n",
       "      <th></th>\n",
       "      <th>status_type</th>\n",
       "      <th>status_published</th>\n",
       "      <th>num_reactions</th>\n",
       "      <th>num_comments</th>\n",
       "      <th>num_shares</th>\n",
       "      <th>num_likes</th>\n",
       "      <th>num_loves</th>\n",
       "      <th>num_wows</th>\n",
       "      <th>num_hahas</th>\n",
       "      <th>num_sads</th>\n",
       "      <th>num_angrys</th>\n",
       "      <th>new_reaction_count</th>\n",
       "      <th>postive_reactions</th>\n",
       "      <th>negative_reactions</th>\n",
       "      <th>interesting</th>\n",
       "    </tr>\n",
       "    <tr>\n",
       "      <th>status_id</th>\n",
       "      <th></th>\n",
       "      <th></th>\n",
       "      <th></th>\n",
       "      <th></th>\n",
       "      <th></th>\n",
       "      <th></th>\n",
       "      <th></th>\n",
       "      <th></th>\n",
       "      <th></th>\n",
       "      <th></th>\n",
       "      <th></th>\n",
       "      <th></th>\n",
       "      <th></th>\n",
       "      <th></th>\n",
       "      <th></th>\n",
       "    </tr>\n",
       "  </thead>\n",
       "  <tbody>\n",
       "    <tr>\n",
       "      <th>1</th>\n",
       "      <td>3</td>\n",
       "      <td>3949</td>\n",
       "      <td>529</td>\n",
       "      <td>512</td>\n",
       "      <td>262</td>\n",
       "      <td>432</td>\n",
       "      <td>92</td>\n",
       "      <td>3</td>\n",
       "      <td>1</td>\n",
       "      <td>1</td>\n",
       "      <td>0</td>\n",
       "      <td>97</td>\n",
       "      <td>527</td>\n",
       "      <td>2</td>\n",
       "      <td>1.463138</td>\n",
       "    </tr>\n",
       "    <tr>\n",
       "      <th>2</th>\n",
       "      <td>1</td>\n",
       "      <td>3917</td>\n",
       "      <td>150</td>\n",
       "      <td>0</td>\n",
       "      <td>0</td>\n",
       "      <td>150</td>\n",
       "      <td>0</td>\n",
       "      <td>0</td>\n",
       "      <td>0</td>\n",
       "      <td>0</td>\n",
       "      <td>0</td>\n",
       "      <td>0</td>\n",
       "      <td>150</td>\n",
       "      <td>0</td>\n",
       "      <td>0.000000</td>\n",
       "    </tr>\n",
       "    <tr>\n",
       "      <th>3</th>\n",
       "      <td>3</td>\n",
       "      <td>3921</td>\n",
       "      <td>227</td>\n",
       "      <td>236</td>\n",
       "      <td>57</td>\n",
       "      <td>204</td>\n",
       "      <td>21</td>\n",
       "      <td>1</td>\n",
       "      <td>1</td>\n",
       "      <td>0</td>\n",
       "      <td>0</td>\n",
       "      <td>23</td>\n",
       "      <td>226</td>\n",
       "      <td>1</td>\n",
       "      <td>1.290749</td>\n",
       "    </tr>\n",
       "    <tr>\n",
       "      <th>4</th>\n",
       "      <td>1</td>\n",
       "      <td>3920</td>\n",
       "      <td>111</td>\n",
       "      <td>0</td>\n",
       "      <td>0</td>\n",
       "      <td>111</td>\n",
       "      <td>0</td>\n",
       "      <td>0</td>\n",
       "      <td>0</td>\n",
       "      <td>0</td>\n",
       "      <td>0</td>\n",
       "      <td>0</td>\n",
       "      <td>111</td>\n",
       "      <td>0</td>\n",
       "      <td>0.000000</td>\n",
       "    </tr>\n",
       "    <tr>\n",
       "      <th>5</th>\n",
       "      <td>1</td>\n",
       "      <td>3832</td>\n",
       "      <td>213</td>\n",
       "      <td>0</td>\n",
       "      <td>0</td>\n",
       "      <td>204</td>\n",
       "      <td>9</td>\n",
       "      <td>0</td>\n",
       "      <td>0</td>\n",
       "      <td>0</td>\n",
       "      <td>0</td>\n",
       "      <td>9</td>\n",
       "      <td>213</td>\n",
       "      <td>0</td>\n",
       "      <td>0.000000</td>\n",
       "    </tr>\n",
       "  </tbody>\n",
       "</table>\n",
       "</div>"
      ],
      "text/plain": [
       "           status_type  status_published  num_reactions  num_comments  \\\n",
       "status_id                                                               \n",
       "1                    3              3949            529           512   \n",
       "2                    1              3917            150             0   \n",
       "3                    3              3921            227           236   \n",
       "4                    1              3920            111             0   \n",
       "5                    1              3832            213             0   \n",
       "\n",
       "           num_shares  num_likes  num_loves  num_wows  num_hahas  num_sads  \\\n",
       "status_id                                                                    \n",
       "1                 262        432         92         3          1         1   \n",
       "2                   0        150          0         0          0         0   \n",
       "3                  57        204         21         1          1         0   \n",
       "4                   0        111          0         0          0         0   \n",
       "5                   0        204          9         0          0         0   \n",
       "\n",
       "           num_angrys  new_reaction_count  postive_reactions  \\\n",
       "status_id                                                      \n",
       "1                   0                  97                527   \n",
       "2                   0                   0                150   \n",
       "3                   0                  23                226   \n",
       "4                   0                   0                111   \n",
       "5                   0                   9                213   \n",
       "\n",
       "           negative_reactions  interesting  \n",
       "status_id                                   \n",
       "1                           2     1.463138  \n",
       "2                           0     0.000000  \n",
       "3                           1     1.290749  \n",
       "4                           0     0.000000  \n",
       "5                           0     0.000000  "
      ]
     },
     "execution_count": 6,
     "metadata": {},
     "output_type": "execute_result"
    }
   ],
   "source": [
    "data_clean.head()"
   ]
  },
  {
   "cell_type": "markdown",
   "metadata": {},
   "source": [
    "# 选择聚类特征"
   ]
  },
  {
   "cell_type": "code",
   "execution_count": 7,
   "metadata": {},
   "outputs": [
    {
     "data": {
      "text/plain": [
       "array([512, 262, 432,  92,   3,   1,   1,   0], dtype=int64)"
      ]
     },
     "execution_count": 7,
     "metadata": {},
     "output_type": "execute_result"
    }
   ],
   "source": [
    "X = data_clean.iloc[:, 3:11]\n",
    "X = np.array(X)\n",
    "X[0]"
   ]
  },
  {
   "cell_type": "markdown",
   "metadata": {},
   "source": [
    "# 评价指标与KMeans随聚类类别的变化"
   ]
  },
  {
   "cell_type": "code",
   "execution_count": 8,
   "metadata": {},
   "outputs": [],
   "source": [
    "wcss = []\n",
    "ss=[]\n",
    "ch=[]\n",
    "dbi=[]\n",
    "for k in range(2,16):\n",
    "    kmeans = KMeans(n_clusters=k, init='k-means++', max_iter=300, n_init=10, random_state=0)\n",
    "    result = kmeans.fit_predict(X)  \n",
    "    wcss.append(kmeans.inertia_)\n",
    "    ss.append(silhouette_score(X,result))\n",
    "    ch.append(calinski_harabasz_score(X,result))\n",
    "    dbi.append(davies_bouldin_score(X,result))"
   ]
  },
  {
   "cell_type": "code",
   "execution_count": 9,
   "metadata": {},
   "outputs": [
    {
     "data": {
      "image/png": "[encoded data removed]",
      "text/plain": [
       "<Figure size 360x216 with 1 Axes>"
      ]
     },
     "metadata": {
      "needs_background": "light"
     },
     "output_type": "display_data"
    },
    {
     "data": {
      "image/png": "[encoded data removed]",
      "text/plain": [
       "<Figure size 360x216 with 1 Axes>"
      ]
     },
     "metadata": {
      "needs_background": "light"
     },
     "output_type": "display_data"
    },
    {
     "data": {
      "image/png": "[encoded data removed]",
      "text/plain": [
       "<Figure size 360x216 with 1 Axes>"
      ]
     },
     "metadata": {
      "needs_background": "light"
     },
     "output_type": "display_data"
    },
    {
     "data": {
      "image/png": "[encoded data removed]",
      "text/plain": [
       "<Figure size 360x216 with 1 Axes>"
      ]
     },
     "metadata": {
      "needs_background": "light"
     },
     "output_type": "display_data"
    }
   ],
   "source": [
    "plt.figure(figsize=(5, 3))\n",
    "plt.plot(range(2,16), wcss)\n",
    "plt.xlabel('number of cluster')\n",
    "plt.ylabel('wcss')\n",
    "plt.title('the ralation between inertia and n_cluster')\n",
    "plt.show()\n",
    "\n",
    "plt.figure(figsize=(5, 3))\n",
    "plt.plot(range(2,16), ss)\n",
    "plt.xlabel('number of cluster')\n",
    "plt.ylabel('ss')\n",
    "plt.title('the ralation between silhouette_score and n_cluster')\n",
    "plt.show()\n",
    "\n",
    "plt.figure(figsize=(5, 3))\n",
    "plt.plot(range(2,16), ch)\n",
    "plt.xlabel('number of cluster')\n",
    "plt.ylabel('ch')\n",
    "plt.title('the ralation between calinski_harabasz_score and n_cluster')\n",
    "plt.show()\n",
    "\n",
    "plt.figure(figsize=(5, 3))\n",
    "plt.plot(range(2,16), dbi)\n",
    "plt.xlabel('number of cluster')\n",
    "plt.ylabel('dbi')\n",
    "plt.title('the ralation between davies_bouldin_score and n_cluster')\n",
    "plt.show()"
   ]
  },
  {
   "cell_type": "markdown",
   "metadata": {},
   "source": [
    "# 记录结果"
   ]
  },
  {
   "cell_type": "code",
   "execution_count": 53,
   "metadata": {},
   "outputs": [],
   "source": [
    "score=np.zeros((3,5,7))"
   ]
  },
  {
   "cell_type": "markdown",
   "metadata": {},
   "source": [
    "# 直接使用特征下不同模型的表现"
   ]
  },
  {
   "cell_type": "code",
   "execution_count": 10,
   "metadata": {},
   "outputs": [],
   "source": [
    "model_1_1 = KMeans(n_clusters=5, init='k-means++', max_iter=300, n_init=10, random_state=0)\n",
    "model_1_2 = SpectralClustering(n_clusters = 5)\n",
    "model_1_3 = MiniBatchKMeans(init='k-means++', n_clusters=5)\n",
    "model_1_4 = AgglomerativeClustering(n_clusters=5)\n",
    "model_1_5 = Birch(n_clusters = 5)\n",
    "model_1_6 = DBSCAN(eps=0.123, min_samples = 5)\n",
    "model_1_7 = MeanShift()\n",
    "model_1_8 = GaussianMixture(n_components = 5).fit(X)"
   ]
  },
  {
   "cell_type": "code",
   "execution_count": 11,
   "metadata": {},
   "outputs": [],
   "source": [
    "scaler = StandardScaler()\n",
    "X_scaled = scaler.fit_transform(X)"
   ]
  },
  {
   "cell_type": "code",
   "execution_count": 13,
   "metadata": {},
   "outputs": [],
   "source": [
    "result_1_1 = model_1_1.fit_predict(X)\n",
    "# result_1_2 = model_1_2.fit_predict(X)\n",
    "result_1_3 = model_1_3.fit_predict(X)\n",
    "result_1_4 = model_1_4.fit_predict(X_scaled)\n",
    "result_1_5 = model_1_5.fit_predict(X)\n",
    "result_1_6 = model_1_6.fit_predict(X_scaled)\n",
    "result_1_7 = model_1_7.fit_predict(X)\n",
    "result_1_8 = model_1_8.predict(X)"
   ]
  },
  {
   "cell_type": "code",
   "execution_count": 62,
   "metadata": {},
   "outputs": [],
   "source": [
    "score[0][0][0] = silhouette_score(X, result_1_1)\n",
    "score[0][0][1] = silhouette_score(X, result_1_3)\n",
    "score[0][0][2] = silhouette_score(X, result_1_4)\n",
    "score[0][0][3] = silhouette_score(X, result_1_5)\n",
    "score[0][0][4] = silhouette_score(X, result_1_6)\n",
    "score[0][0][5] = silhouette_score(X, result_1_7)\n",
    "score[0][0][6] = silhouette_score(X, result_1_8)\n",
    "score[1][0][0] = calinski_harabasz_score(X, result_1_1)\n",
    "score[1][0][1] = calinski_harabasz_score(X, result_1_3)\n",
    "score[1][0][2] = calinski_harabasz_score(X, result_1_4)\n",
    "score[1][0][3] = calinski_harabasz_score(X, result_1_5)\n",
    "score[1][0][4] = calinski_harabasz_score(X, result_1_6)\n",
    "score[1][0][5] = calinski_harabasz_score(X, result_1_7)\n",
    "score[1][0][6] = calinski_harabasz_score(X, result_1_8)\n",
    "score[2][0][0] = davies_bouldin_score(X, result_1_1)\n",
    "score[2][0][1] = davies_bouldin_score(X, result_1_3)\n",
    "score[2][0][2] = davies_bouldin_score(X, result_1_4)\n",
    "score[2][0][3] = davies_bouldin_score(X, result_1_5)\n",
    "score[2][0][4] = davies_bouldin_score(X, result_1_6)\n",
    "score[2][0][5] = davies_bouldin_score(X, result_1_7)\n",
    "score[2][0][6] = davies_bouldin_score(X, result_1_8)"
   ]
  },
  {
   "cell_type": "markdown",
   "metadata": {},
   "source": [
    "# PCA(n=2)特征下不同模型的表现"
   ]
  },
  {
   "cell_type": "code",
   "execution_count": 17,
   "metadata": {},
   "outputs": [],
   "source": [
    "X_std = StandardScaler().fit_transform(X)\n",
    "pca = PCA(n_components=2)\n",
    "X_pca = pca.fit_transform(X_std)"
   ]
  },
  {
   "cell_type": "code",
   "execution_count": 18,
   "metadata": {},
   "outputs": [],
   "source": [
    "model_2_1 = KMeans(n_clusters=5, init='k-means++', max_iter=300, n_init=10, random_state=0)\n",
    "model_2_2 = SpectralClustering(n_clusters = 5)\n",
    "model_2_3 = MiniBatchKMeans(init='k-means++', n_clusters=5)\n",
    "model_2_4 = AgglomerativeClustering(n_clusters=5)\n",
    "model_2_5 = Birch(n_clusters = 5)\n",
    "model_2_6 = DBSCAN(eps=0.123, min_samples = 5)\n",
    "model_2_7 = MeanShift()\n",
    "model_2_8 = GaussianMixture(n_components = 5).fit(X_pca)"
   ]
  },
  {
   "cell_type": "code",
   "execution_count": 19,
   "metadata": {},
   "outputs": [],
   "source": [
    "scaler = StandardScaler()\n",
    "X_pca_scaled = scaler.fit_transform(X_pca)"
   ]
  },
  {
   "cell_type": "code",
   "execution_count": 20,
   "metadata": {},
   "outputs": [],
   "source": [
    "result_2_1 = model_2_1.fit_predict(X_pca)\n",
    "# result_2_2 = model_2_2.fit_predict(X_pca)\n",
    "result_2_3 = model_2_3.fit_predict(X_pca)\n",
    "result_2_4 = model_2_4.fit_predict(X_pca_scaled)\n",
    "result_2_5 = model_2_5.fit_predict(X_pca)\n",
    "result_2_6 = model_2_6.fit_predict(X_pca_scaled)\n",
    "result_2_7 = model_2_7.fit_predict(X_pca)\n",
    "result_2_8 = model_2_8.predict(X_pca)"
   ]
  },
  {
   "cell_type": "code",
   "execution_count": 63,
   "metadata": {},
   "outputs": [],
   "source": [
    "score[0][1][0] = silhouette_score(X, result_2_1)\n",
    "score[0][1][1] = silhouette_score(X, result_2_3)\n",
    "score[0][1][2] = silhouette_score(X, result_2_4)\n",
    "score[0][1][3] = silhouette_score(X, result_2_5)\n",
    "score[0][1][4] = silhouette_score(X, result_2_6)\n",
    "score[0][1][5] = silhouette_score(X, result_2_7)\n",
    "score[0][1][6] = silhouette_score(X, result_2_8)\n",
    "score[1][1][0] = calinski_harabasz_score(X, result_2_1)\n",
    "score[1][1][1] = calinski_harabasz_score(X, result_2_3)\n",
    "score[1][1][2] = calinski_harabasz_score(X, result_2_4)\n",
    "score[1][1][3] = calinski_harabasz_score(X, result_2_5)\n",
    "score[1][1][4] = calinski_harabasz_score(X, result_2_6)\n",
    "score[1][1][5] = calinski_harabasz_score(X, result_2_7)\n",
    "score[1][1][6] = calinski_harabasz_score(X, result_2_8)\n",
    "score[2][1][0] = davies_bouldin_score(X, result_2_1)\n",
    "score[2][1][1] = davies_bouldin_score(X, result_2_3)\n",
    "score[2][1][2] = davies_bouldin_score(X, result_2_4)\n",
    "score[2][1][3] = davies_bouldin_score(X, result_2_5)\n",
    "score[2][1][4] = davies_bouldin_score(X, result_2_6)\n",
    "score[2][1][5] = davies_bouldin_score(X, result_2_7)\n",
    "score[2][1][6] = davies_bouldin_score(X, result_2_8)"
   ]
  },
  {
   "cell_type": "markdown",
   "metadata": {},
   "source": [
    "# PCA(n=4)特征下不同模型的表现"
   ]
  },
  {
   "cell_type": "code",
   "execution_count": 32,
   "metadata": {},
   "outputs": [],
   "source": [
    "X_std = StandardScaler().fit_transform(X)\n",
    "pca = PCA(n_components=4)\n",
    "X_pca = pca.fit_transform(X_std)"
   ]
  },
  {
   "cell_type": "code",
   "execution_count": 33,
   "metadata": {},
   "outputs": [],
   "source": [
    "model_4_1 = KMeans(n_clusters=5, init='k-means++', max_iter=300, n_init=10, random_state=0)\n",
    "model_4_2 = SpectralClustering(n_clusters = 5)\n",
    "model_4_3 = MiniBatchKMeans(init='k-means++', n_clusters=5)\n",
    "model_4_4 = AgglomerativeClustering(n_clusters=5)\n",
    "model_4_5 = Birch(n_clusters = 5)\n",
    "model_4_6 = DBSCAN(eps=0.123, min_samples = 5)\n",
    "model_4_7 = MeanShift()\n",
    "model_4_8 = GaussianMixture(n_components = 5).fit(X_pca)"
   ]
  },
  {
   "cell_type": "code",
   "execution_count": 34,
   "metadata": {},
   "outputs": [],
   "source": [
    "scaler = StandardScaler()\n",
    "X_pca_scaled = scaler.fit_transform(X_pca)"
   ]
  },
  {
   "cell_type": "code",
   "execution_count": 35,
   "metadata": {},
   "outputs": [],
   "source": [
    "result_4_1 = model_4_1.fit_predict(X_pca)\n",
    "# result_4_2 = model_4_2.fit_predict(X_pca)\n",
    "result_4_3 = model_4_3.fit_predict(X_pca)\n",
    "result_4_4 = model_4_4.fit_predict(X_pca_scaled)\n",
    "result_4_5 = model_4_5.fit_predict(X_pca)\n",
    "result_4_6 = model_4_6.fit_predict(X_pca_scaled)\n",
    "result_4_7 = model_4_7.fit_predict(X_pca)\n",
    "result_4_8 = model_4_8.predict(X_pca)"
   ]
  },
  {
   "cell_type": "code",
   "execution_count": 64,
   "metadata": {},
   "outputs": [],
   "source": [
    "score[0][3][0] = silhouette_score(X, result_4_1)\n",
    "score[0][3][1] = silhouette_score(X, result_4_3)\n",
    "score[0][3][2] = silhouette_score(X, result_4_4)\n",
    "score[0][3][3] = silhouette_score(X, result_4_5)\n",
    "score[0][3][4] = silhouette_score(X, result_4_6)\n",
    "score[0][3][5] = silhouette_score(X, result_4_7)\n",
    "score[0][3][6] = silhouette_score(X, result_4_8)\n",
    "score[1][3][0] = calinski_harabasz_score(X, result_4_1)\n",
    "score[1][3][1] = calinski_harabasz_score(X, result_4_3)\n",
    "score[1][3][2] = calinski_harabasz_score(X, result_4_4)\n",
    "score[1][3][3] = calinski_harabasz_score(X, result_4_5)\n",
    "score[1][3][4] = calinski_harabasz_score(X, result_4_6)\n",
    "score[1][3][5] = calinski_harabasz_score(X, result_4_7)\n",
    "score[1][3][6] = calinski_harabasz_score(X, result_4_8)\n",
    "score[2][3][0] = davies_bouldin_score(X, result_4_1)\n",
    "score[2][3][1] = davies_bouldin_score(X, result_4_3)\n",
    "score[2][3][2] = davies_bouldin_score(X, result_4_4)\n",
    "score[2][3][3] = davies_bouldin_score(X, result_4_5)\n",
    "score[2][3][4] = davies_bouldin_score(X, result_4_6)\n",
    "score[2][3][5] = davies_bouldin_score(X, result_4_7)\n",
    "score[2][3][6] = davies_bouldin_score(X, result_4_8)"
   ]
  },
  {
   "cell_type": "markdown",
   "metadata": {},
   "source": [
    "# FA(n=2)特征下不同模型的表现"
   ]
  },
  {
   "cell_type": "code",
   "execution_count": 25,
   "metadata": {},
   "outputs": [],
   "source": [
    "fa = FactorAnalysis(n_components=2)\n",
    "X_fa = fa.fit_transform(X)"
   ]
  },
  {
   "cell_type": "code",
   "execution_count": 26,
   "metadata": {},
   "outputs": [],
   "source": [
    "model_3_1 = KMeans(n_clusters=5, init='k-means++', max_iter=300, n_init=10, random_state=0)\n",
    "model_3_2 = SpectralClustering(n_clusters = 5)\n",
    "model_3_3 = MiniBatchKMeans(init='k-means++', n_clusters=5)\n",
    "model_3_4 = AgglomerativeClustering(n_clusters=5)\n",
    "model_3_5 = Birch(n_clusters = 5)\n",
    "model_3_6 = DBSCAN(eps=0.123, min_samples = 5)\n",
    "model_3_7 = MeanShift()\n",
    "model_3_8 = GaussianMixture(n_components = 5).fit(X_pca)"
   ]
  },
  {
   "cell_type": "code",
   "execution_count": 27,
   "metadata": {},
   "outputs": [],
   "source": [
    "scaler = StandardScaler()\n",
    "X_fa_scaled = scaler.fit_transform(X_fa)"
   ]
  },
  {
   "cell_type": "code",
   "execution_count": 28,
   "metadata": {},
   "outputs": [],
   "source": [
    "result_3_1 = model_3_1.fit_predict(X_fa)\n",
    "# result_3_2 = model_3_2.fit_predict(X_fa)\n",
    "result_3_3 = model_3_3.fit_predict(X_fa)\n",
    "result_3_4 = model_3_4.fit_predict(X_fa_scaled)\n",
    "result_3_5 = model_3_5.fit_predict(X_fa)\n",
    "result_3_6 = model_3_6.fit_predict(X_fa_scaled)\n",
    "result_3_7 = model_3_7.fit_predict(X_fa)\n",
    "result_3_8 = model_3_8.predict(X_fa)"
   ]
  },
  {
   "cell_type": "code",
   "execution_count": 65,
   "metadata": {},
   "outputs": [],
   "source": [
    "score[0][2][0] = silhouette_score(X, result_3_1)\n",
    "score[0][2][1] = silhouette_score(X, result_3_3)\n",
    "score[0][2][2] = silhouette_score(X, result_3_4)\n",
    "score[0][2][3] = silhouette_score(X, result_3_5)\n",
    "score[0][2][4] = silhouette_score(X, result_3_6)\n",
    "score[0][2][5] = silhouette_score(X, result_3_7)\n",
    "score[0][2][6] = silhouette_score(X, result_3_8)\n",
    "score[1][2][0] = calinski_harabasz_score(X, result_3_1)\n",
    "score[1][2][1] = calinski_harabasz_score(X, result_3_3)\n",
    "score[1][2][2] = calinski_harabasz_score(X, result_3_4)\n",
    "score[1][2][3] = calinski_harabasz_score(X, result_3_5)\n",
    "score[1][2][4] = calinski_harabasz_score(X, result_3_6)\n",
    "score[1][2][5] = calinski_harabasz_score(X, result_3_7)\n",
    "score[1][2][6] = calinski_harabasz_score(X, result_3_8)\n",
    "score[2][2][0] = davies_bouldin_score(X, result_3_1)\n",
    "score[2][2][1] = davies_bouldin_score(X, result_3_3)\n",
    "score[2][2][2] = davies_bouldin_score(X, result_3_4)\n",
    "score[2][2][3] = davies_bouldin_score(X, result_3_5)\n",
    "score[2][2][4] = davies_bouldin_score(X, result_3_6)\n",
    "score[2][2][5] = davies_bouldin_score(X, result_3_7)\n",
    "score[2][2][6] = davies_bouldin_score(X, result_3_8)"
   ]
  },
  {
   "cell_type": "markdown",
   "metadata": {},
   "source": [
    "# FA(n=4)特征下不同模型的表现"
   ]
  },
  {
   "cell_type": "code",
   "execution_count": 39,
   "metadata": {},
   "outputs": [],
   "source": [
    "fa = FactorAnalysis(n_components=4)\n",
    "X_fa = fa.fit_transform(X)"
   ]
  },
  {
   "cell_type": "code",
   "execution_count": 40,
   "metadata": {},
   "outputs": [],
   "source": [
    "model_5_1 = KMeans(n_clusters=5, init='k-means++', max_iter=300, n_init=10, random_state=0)\n",
    "model_5_2 = SpectralClustering(n_clusters = 5)\n",
    "model_5_3 = MiniBatchKMeans(init='k-means++', n_clusters=5)\n",
    "model_5_4 = AgglomerativeClustering(n_clusters=5)\n",
    "model_5_5 = Birch(n_clusters = 5)\n",
    "model_5_6 = DBSCAN(eps=0.123, min_samples = 5)\n",
    "model_5_7 = MeanShift()\n",
    "model_5_8 = GaussianMixture(n_components = 5).fit(X_pca)"
   ]
  },
  {
   "cell_type": "code",
   "execution_count": 41,
   "metadata": {},
   "outputs": [],
   "source": [
    "scaler = StandardScaler()\n",
    "X_fa_scaled = scaler.fit_transform(X_fa)"
   ]
  },
  {
   "cell_type": "code",
   "execution_count": 42,
   "metadata": {},
   "outputs": [],
   "source": [
    "result_5_1 = model_5_1.fit_predict(X_fa)\n",
    "# result_5_2 = model_5_2.fit_predict(X_fa)\n",
    "result_5_3 = model_5_3.fit_predict(X_fa)\n",
    "result_5_4 = model_5_4.fit_predict(X_fa_scaled)\n",
    "result_5_5 = model_5_5.fit_predict(X_fa)\n",
    "result_5_6 = model_5_6.fit_predict(X_fa_scaled)\n",
    "result_5_7 = model_5_7.fit_predict(X_fa)\n",
    "result_5_8 = model_5_8.predict(X_fa)"
   ]
  },
  {
   "cell_type": "code",
   "execution_count": 66,
   "metadata": {},
   "outputs": [],
   "source": [
    "score[0][4][0] = silhouette_score(X, result_5_1)\n",
    "score[0][4][1] = silhouette_score(X, result_5_3)\n",
    "score[0][4][2] = silhouette_score(X, result_5_4)\n",
    "score[0][4][3] = silhouette_score(X, result_5_5)\n",
    "score[0][4][4] = silhouette_score(X, result_5_6)\n",
    "score[0][4][5] = silhouette_score(X, result_5_7)\n",
    "score[0][4][6] = silhouette_score(X, result_5_8)\n",
    "score[1][4][0] = calinski_harabasz_score(X, result_5_1)\n",
    "score[1][4][1] = calinski_harabasz_score(X, result_5_3)\n",
    "score[1][4][2] = calinski_harabasz_score(X, result_5_4)\n",
    "score[1][4][3] = calinski_harabasz_score(X, result_5_5)\n",
    "score[1][4][4] = calinski_harabasz_score(X, result_5_6)\n",
    "score[1][4][5] = calinski_harabasz_score(X, result_5_7)\n",
    "score[1][4][6] = calinski_harabasz_score(X, result_5_8)\n",
    "score[2][4][0] = davies_bouldin_score(X, result_5_1)\n",
    "score[2][4][1] = davies_bouldin_score(X, result_5_3)\n",
    "score[2][4][2] = davies_bouldin_score(X, result_5_4)\n",
    "score[2][4][3] = davies_bouldin_score(X, result_5_5)\n",
    "score[2][4][4] = davies_bouldin_score(X, result_5_6)\n",
    "score[2][4][5] = davies_bouldin_score(X, result_5_7)\n",
    "score[2][4][6] = davies_bouldin_score(X, result_5_8)"
   ]
  },
  {
   "cell_type": "code",
   "execution_count": 67,
   "metadata": {},
   "outputs": [
    {
     "data": {
      "text/plain": [
       "array([[[    0.81,     0.74,     0.68,     0.8 ,    -0.62,     0.7 ,\n",
       "             0.38],\n",
       "        [    0.71,     0.7 ,     0.71,     0.7 ,    -0.6 ,     0.08,\n",
       "             0.17],\n",
       "        [    0.74,     0.65,     0.74,     0.84,     0.66,     0.7 ,\n",
       "             0.01],\n",
       "        [    0.68,     0.51,     0.65,    -0.42,    -0.7 ,    -0.61,\n",
       "             0.3 ],\n",
       "        [    0.76,     0.71,     0.69,     0.73,    -0.22,     0.43,\n",
       "            -0.33]],\n",
       "\n",
       "       [[10173.53,  7475.21,  2892.67,  9037.45,   179.79,  2184.4 ,\n",
       "          1292.3 ],\n",
       "        [ 2553.61,  2453.88,  2600.75,  1432.02,   329.67,   598.39,\n",
       "          1024.54],\n",
       "        [ 6613.68,  6378.83,  6149.86,  3291.35,   650.81,  3463.22,\n",
       "          1003.98],\n",
       "        [ 1915.11,  2152.79,  1942.21,   773.85,   202.31,   443.08,\n",
       "          1172.31],\n",
       "        [ 4001.59,  4806.7 ,  4026.79,  2548.71,   403.73,   749.32,\n",
       "           732.62]],\n",
       "\n",
       "       [[    0.6 ,     0.68,     1.  ,     0.63,     6.43,     0.56,\n",
       "             1.46],\n",
       "        [    1.12,     1.39,     1.06,     1.46,     4.8 ,     4.47,\n",
       "             1.31],\n",
       "        [    0.74,     0.69,     0.75,     0.34,     1.84,     0.57,\n",
       "             1.35],\n",
       "        [    1.82,     1.4 ,     5.93,     2.53,     3.2 ,     3.38,\n",
       "             1.81],\n",
       "        [    1.72,     0.96,     0.84,     0.92,     1.18,     1.68,\n",
       "             3.4 ]]])"
      ]
     },
     "execution_count": 67,
     "metadata": {},
     "output_type": "execute_result"
    }
   ],
   "source": [
    "np.set_printoptions(suppress=True, precision=2)\n",
    "score"
   ]
  },
  {
   "cell_type": "code",
   "execution_count": null,
   "metadata": {},
   "outputs": [],
   "source": []
  }
 ],
 "metadata": {
  "kernelspec": {
   "display_name": "Python 3",
   "language": "python",
   "name": "python3"
  },
  "language_info": {
   "codemirror_mode": {
    "name": "ipython",
    "version": 3
   },
   "file_extension": ".py",
   "mimetype": "text/x-python",
   "name": "python",
   "nbconvert_exporter": "python",
   "pygments_lexer": "ipython3",
   "version": "3.8.3"
  }
 },
 "nbformat": 4,
 "nbformat_minor": 4
}
