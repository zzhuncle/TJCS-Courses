{
 "cells": [
  {
   "cell_type": "code",
   "execution_count": 1,
   "metadata": {},
   "outputs": [],
   "source": [
    "# cifar 10数据集10分类数据集，32 x 32大小的RGB3通道图片，50000张用于训练，10000张用于测试\n",
    "# 飞机、汽车、鸟、猫、鹿、狗、蛙、马、船、卡车\n",
    "import numpy as np\n",
    "import pickle\n",
    "import math\n",
    "from sklearn.decomposition import PCA"
   ]
  },
  {
   "cell_type": "code",
   "execution_count": 2,
   "metadata": {},
   "outputs": [],
   "source": [
    "'''\n",
    "    一些超参数\n",
    "'''\n",
    "# 最小风险矩阵\n",
    "# m[i, j]代表把真实属于j类的样本归到i类中带来的损失\n",
    "''' 0.3692\n",
    "matrixLambda = np.array([\n",
    "    [0, 1, 1, 2, 2, 2, 2, 2, 1, 1],\n",
    "    [1, 0, 2, 2, 2, 2, 2, 2, 1, 1],\n",
    "    [1, 2, 0, 1, 1, 1, 1, 1, 2, 2],\n",
    "    [2, 2, 1, 0, 1, 1, 1, 1, 2, 2],\n",
    "    [2, 2, 1, 1, 0, 1, 1, 1, 2, 2],\n",
    "    [2, 2, 1, 1, 1, 0, 1, 1, 2, 2],\n",
    "    [2, 2, 1, 1, 1, 1, 0, 1, 2, 2],\n",
    "    [2, 2, 1, 1, 1, 1, 1, 0, 2, 2],\n",
    "    [1, 1, 2, 2, 2, 2, 2, 2, 0, 1],\n",
    "    [1, 1, 2, 2, 2, 2, 2, 2, 1, 0]\n",
    "])\n",
    "'''\n",
    "''' 0.3014\n",
    "matrixLambda = np.array([\n",
    "    [0, 2, 2, 1, 1, 1, 1, 1, 2, 2],\n",
    "    [2, 0, 1, 1, 1, 1, 1, 1, 2, 2],\n",
    "    [2, 1, 0, 2, 2, 2, 2, 2, 1, 1],\n",
    "    [1, 1, 2, 0, 2, 2, 2, 2, 1, 1],\n",
    "    [1, 1, 2, 2, 0, 2, 2, 2, 1, 1],\n",
    "    [1, 1, 2, 2, 2, 0, 2, 2, 1, 1],\n",
    "    [1, 1, 2, 2, 2, 2, 0, 2, 1, 1],\n",
    "    [1, 1, 2, 2, 2, 2, 2, 0, 1, 1],\n",
    "    [2, 2, 1, 1, 1, 1, 1, 1, 0, 2],\n",
    "    [2, 2, 1, 1, 1, 1, 1, 1, 2, 0]\n",
    "])\n",
    "'''\n",
    "# 0.3716\n",
    "matrixLambda = np.array([\n",
    "    [0, 1, 1, 1, 1, 1, 1, 1, 1, 1],\n",
    "    [1, 0, 1, 1, 1, 1, 1, 1, 1, 1],\n",
    "    [1, 1, 0, 1, 1, 1, 1, 1, 1, 1],\n",
    "    [1, 1, 1, 0, 1, 1, 1, 1, 1, 1],\n",
    "    [1, 1, 1, 1, 0, 1, 1, 1, 1, 1],\n",
    "    [1, 1, 1, 1, 1, 0, 1, 1, 1, 1],\n",
    "    [1, 1, 1, 1, 1, 1, 0, 1, 1, 1],\n",
    "    [1, 1, 1, 1, 1, 1, 1, 0, 1, 1],\n",
    "    [1, 1, 1, 1, 1, 1, 1, 1, 0, 1],\n",
    "    [1, 1, 1, 1, 1, 1, 1, 1, 1, 0]\n",
    "])\n",
    "# 数据特征降维\n",
    "feature_count = 25"
   ]
  },
  {
   "cell_type": "code",
   "execution_count": 3,
   "metadata": {},
   "outputs": [],
   "source": [
    "# 使用CIFAR-10官方给出的使用方法加载数据集\n",
    "def unpickle(file):\n",
    "    with open(file, 'rb') as fo:\n",
    "        dict = pickle.load(fo, encoding = 'iso-8859-1')\n",
    "    return dict\n",
    "\n",
    "def loadData(train_dir = './cifar-10-batches-py/data_batch_', test_dir = './cifar-10-batches-py/test_batch'):\n",
    "    # 加载训练集\n",
    "    x_train = np.empty(shape = [0, 3072])\n",
    "    y_train = []\n",
    "    for i in range(5):\n",
    "        file_batch = train_dir + str(i + 1)\n",
    "        dict_train_batch = unpickle(file_batch)\n",
    "        data_train_batch = dict_train_batch['data']\n",
    "        labels = dict_train_batch['labels']\n",
    "        x_train = np.append(x_train, data_train_batch, axis = 0)\n",
    "        y_train = np.append(y_train, labels)\n",
    "\n",
    "    # 加载测试集\n",
    "    dict_test = unpickle(test_dir)\n",
    "    x_test = dict_test['data']\n",
    "    y_test = dict_test['labels']\n",
    "    \n",
    "    return x_train, y_train, x_test, y_test"
   ]
  },
  {
   "cell_type": "code",
   "execution_count": 4,
   "metadata": {},
   "outputs": [],
   "source": [
    "# 提取第c类图片\n",
    "def extractClass(label, data, c):\n",
    "    # 提取出第c类图片放到listC\n",
    "    listC = []\n",
    "    for i in range(len(label)):\n",
    "        if label[i] == c:\n",
    "            listC.append(list(data[i, : ]))\n",
    "    return listC\n",
    "\n",
    "# 计算类内均值 类内离散度 比例 新的训练数据 主成分分析模型\n",
    "def calculateEC(x_train, y_train, feature_count):\n",
    "    # matrixE[i][j]表示第i类样本在第j个属性上的均值\n",
    "    matrixE = np.empty((10, feature_count)) \n",
    "    matrixC = np.empty((10, feature_count))\n",
    "    \n",
    "    pca = PCA(n_components = feature_count)\n",
    "    new_train_data = pca.fit_transform(x_train)\n",
    "    \n",
    "    pc = [] # 先验概率\n",
    "    for i in range(10):\n",
    "        listC = extractClass(y_train, new_train_data, i)\n",
    "        pc.append(len(listC) / len(y_train))\n",
    "        for j in range(feature_count):\n",
    "            list1 = []\n",
    "            for k in range(len(listC)):\n",
    "                list1.append(listC[k][j])\n",
    "            matrixE[i, j] = np.mean(list1)\n",
    "            matrixC[i, j] = np.cov(list1)\n",
    "    return matrixE, matrixC, pc, new_train_data, pca     "
   ]
  },
  {
   "cell_type": "code",
   "execution_count": 5,
   "metadata": {},
   "outputs": [],
   "source": [
    "# 根据最小风险贝叶斯模型进行分类\n",
    "def calculatePostrior(matrixE, matrixC, pc, test_data, feature_count):\n",
    "    risk = []\n",
    "    for i in range(10):\n",
    "        r = 0\n",
    "        for j in range(10):\n",
    "            p_x_wj = 1\n",
    "            for k in range(feature_count):\n",
    "                p_x_wj = p_x_wj * math.exp(- (test_data[k] - matrixE[j][k]) ** 2 / (2 * matrixC[j][k])) / math.sqrt(2 * math.pi * matrixC[j][k])\n",
    "            r += matrixLambda[i][j] * pc[i] * p_x_wj\n",
    "        risk.append(r)\n",
    "    return risk.index(min(risk))"
   ]
  },
  {
   "cell_type": "code",
   "execution_count": 6,
   "metadata": {},
   "outputs": [
    {
     "name": "stdout",
     "output_type": "stream",
     "text": [
      "Total test number is 10000\n",
      "Test accuracy is 0.370600\n"
     ]
    }
   ],
   "source": [
    "if __name__ == '__main__':\n",
    "    x_train, y_train, x_test, y_test = loadData()\n",
    "    matrixE, matrixC, pc, new_train_data, pca = calculateEC(x_train, y_train, feature_count)\n",
    "    new_test_data = pca.transform(x_test)\n",
    "\n",
    "    # 进行类别预测\n",
    "    pre_label = []\n",
    "    for i in range(len(y_test)):\n",
    "        pre_label.append(calculatePostrior(matrixE, matrixC, pc, new_test_data[i, : ], feature_count))\n",
    "        \n",
    "    error_count = 0\n",
    "    for i in range(len(pre_label)):\n",
    "        if pre_label[i] != y_test[i]:\n",
    "            error_count += 1\n",
    "            \n",
    "    print('Total test number is %d' % len(y_test))\n",
    "    print('Test accuracy is %f' % (1 - error_count / len(y_test)))"
   ]
  },
  {
   "cell_type": "code",
   "execution_count": 7,
   "metadata": {},
   "outputs": [],
   "source": [
    "### 原始RGB特征 0.2647\n",
    "### HOG特征\n",
    "\n",
    "### 贝叶斯分类方法\n",
    "### PCA特征数20  0.3651\n",
    "### PCA特征数25  0.3716\n",
    "### PCA特征数30  0.3684\n",
    "### PCA特征数35  0.3668\n",
    "###          40  0.3669\n",
    "###          50  0.3485\n",
    "###          60  0.3526\n",
    "###          80  0.3438\n",
    "###          100 0.3368"
   ]
  }
 ],
 "metadata": {
  "kernelspec": {
   "display_name": "paper",
   "language": "python",
   "name": "paper"
  },
  "language_info": {
   "codemirror_mode": {
    "name": "ipython",
    "version": 3
   },
   "file_extension": ".py",
   "mimetype": "text/x-python",
   "name": "python",
   "nbconvert_exporter": "python",
   "pygments_lexer": "ipython3",
   "version": "3.8.1"
  }
 },
 "nbformat": 4,
 "nbformat_minor": 4
}
